{
 "cells": [
  {
   "cell_type": "markdown",
   "metadata": {
    "id": "24l7xzNFOcjn"
   },
   "source": [
    "Install CUDA version of the BLAS libraries"
   ]
  },
  {
   "cell_type": "code",
   "execution_count": 1,
   "metadata": {},
   "outputs": [
    {
     "name": "stdout",
     "output_type": "stream",
     "text": [
      "Requirement already satisfied: vanilla in c:\\users\\harsh\\anaconda3\\lib\\site-packages (0.1.16)\n",
      "Requirement already satisfied: greenlet in c:\\users\\harsh\\anaconda3\\lib\\site-packages (from vanilla) (3.0.1)\n"
     ]
    }
   ],
   "source": [
    "!pip install vanilla"
   ]
  },
  {
   "cell_type": "code",
   "execution_count": null,
   "metadata": {},
   "outputs": [],
   "source": []
  },
  {
   "cell_type": "code",
   "execution_count": null,
   "metadata": {
    "colab": {
     "base_uri": "https://localhost:8080/"
    },
    "id": "LoywvQjw5IXz",
    "outputId": "d5ba8e19-a01b-4f7b-c17c-0ff2cf377820"
   },
   "outputs": [],
   "source": []
  },
  {
   "cell_type": "markdown",
   "metadata": {
    "id": "N6RdWhDUflIa"
   },
   "source": [
    "Install the 'vanilla' pennylane package first."
   ]
  },
  {
   "cell_type": "code",
   "execution_count": 2,
   "metadata": {
    "colab": {
     "base_uri": "https://localhost:8080/"
    },
    "id": "OFoTdhkBokIC",
    "outputId": "677de0ff-7415-4f1a-e5c7-df29c3f77222"
   },
   "outputs": [
    {
     "name": "stdout",
     "output_type": "stream",
     "text": [
      "Requirement already satisfied: pennylane in c:\\users\\harsh\\anaconda3\\lib\\site-packages (0.38.0)\n",
      "Requirement already satisfied: numpy<2.0 in c:\\users\\harsh\\anaconda3\\lib\\site-packages (from pennylane) (1.26.4)\n",
      "Requirement already satisfied: scipy in c:\\users\\harsh\\anaconda3\\lib\\site-packages (from pennylane) (1.11.4)\n",
      "Requirement already satisfied: networkx in c:\\users\\harsh\\anaconda3\\lib\\site-packages (from pennylane) (3.1)\n",
      "Requirement already satisfied: rustworkx>=0.14.0 in c:\\users\\harsh\\anaconda3\\lib\\site-packages (from pennylane) (0.15.1)\n",
      "Requirement already satisfied: autograd in c:\\users\\harsh\\anaconda3\\lib\\site-packages (from pennylane) (1.7.0)\n",
      "Requirement already satisfied: toml in c:\\users\\harsh\\anaconda3\\lib\\site-packages (from pennylane) (0.10.2)\n",
      "Requirement already satisfied: appdirs in c:\\users\\harsh\\anaconda3\\lib\\site-packages (from pennylane) (1.4.4)\n",
      "Requirement already satisfied: autoray>=0.6.11 in c:\\users\\harsh\\anaconda3\\lib\\site-packages (from pennylane) (0.6.12)\n",
      "Requirement already satisfied: cachetools in c:\\users\\harsh\\anaconda3\\lib\\site-packages (from pennylane) (4.2.2)\n",
      "Requirement already satisfied: pennylane-lightning>=0.38 in c:\\users\\harsh\\anaconda3\\lib\\site-packages (from pennylane) (0.38.0)\n",
      "Requirement already satisfied: requests in c:\\users\\harsh\\anaconda3\\lib\\site-packages (from pennylane) (2.31.0)\n",
      "Requirement already satisfied: typing-extensions in c:\\users\\harsh\\anaconda3\\lib\\site-packages (from pennylane) (4.9.0)\n",
      "Requirement already satisfied: packaging in c:\\users\\harsh\\anaconda3\\lib\\site-packages (from pennylane) (23.1)\n",
      "Requirement already satisfied: charset-normalizer<4,>=2 in c:\\users\\harsh\\anaconda3\\lib\\site-packages (from requests->pennylane) (2.0.4)\n",
      "Requirement already satisfied: idna<4,>=2.5 in c:\\users\\harsh\\anaconda3\\lib\\site-packages (from requests->pennylane) (3.4)\n",
      "Requirement already satisfied: urllib3<3,>=1.21.1 in c:\\users\\harsh\\anaconda3\\lib\\site-packages (from requests->pennylane) (2.0.7)\n",
      "Requirement already satisfied: certifi>=2017.4.17 in c:\\users\\harsh\\anaconda3\\lib\\site-packages (from requests->pennylane) (2024.2.2)\n"
     ]
    }
   ],
   "source": [
    "!pip install pennylane"
   ]
  },
  {
   "cell_type": "markdown",
   "metadata": {
    "id": "rr8Rnnyjfrlc"
   },
   "source": [
    "Now we build the \"lightning\" and \"lightning-gpu\" device code from source. We could probably use pre-packaged versions but this is what i managed to get working. I'll play with using the pre-packaged versions sometime soon."
   ]
  },
  {
   "cell_type": "code",
   "execution_count": null,
   "metadata": {
    "colab": {
     "base_uri": "https://localhost:8080/"
    },
    "id": "4lnQQLM9oT6o",
    "outputId": "abda2051-25c3-483b-a4af-96712ab1c44e"
   },
   "outputs": [],
   "source": []
  },
  {
   "cell_type": "code",
   "execution_count": null,
   "metadata": {},
   "outputs": [],
   "source": []
  },
  {
   "cell_type": "code",
   "execution_count": null,
   "metadata": {
    "colab": {
     "base_uri": "https://localhost:8080/"
    },
    "id": "pfblzK6voeq5",
    "outputId": "a3f37535-8f27-4fe8-9f3a-8d823294673d"
   },
   "outputs": [],
   "source": []
  },
  {
   "cell_type": "code",
   "execution_count": null,
   "metadata": {},
   "outputs": [],
   "source": []
  },
  {
   "cell_type": "code",
   "execution_count": 3,
   "metadata": {
    "colab": {
     "base_uri": "https://localhost:8080/"
    },
    "id": "kle7Grjpoq9e",
    "outputId": "eaf3a328-fe6c-4f89-a4f2-129f13fb0fe4"
   },
   "outputs": [
    {
     "name": "stdout",
     "output_type": "stream",
     "text": [
      "Requirement already satisfied: wheel in c:\\users\\harsh\\anaconda3\\lib\\site-packages (0.41.2)\n"
     ]
    },
    {
     "name": "stderr",
     "output_type": "stream",
     "text": [
      "ERROR: Could not find a version that satisfies the requirement custatevec-cu11 (from versions: none)\n",
      "ERROR: No matching distribution found for custatevec-cu11\n"
     ]
    }
   ],
   "source": [
    "!python -m pip install wheel custatevec-cu11"
   ]
  },
  {
   "cell_type": "code",
   "execution_count": 4,
   "metadata": {
    "id": "XQ4rdOoUo0Ay"
   },
   "outputs": [],
   "source": [
    "import os\n",
    "import site\n",
    "os.environ[\"CUQUANTUM_SDK\"] = f'{site.getsitepackages()[0]}/cuquantum/lib'"
   ]
  },
  {
   "cell_type": "code",
   "execution_count": 5,
   "metadata": {
    "colab": {
     "base_uri": "https://localhost:8080/"
    },
    "id": "722FyHg9o5Ph",
    "outputId": "b1218be4-8a52-4837-900a-fec84935ed1c"
   },
   "outputs": [
    {
     "name": "stderr",
     "output_type": "stream",
     "text": [
      "'PL_BACKEND' is not recognized as an internal or external command,\n",
      "operable program or batch file.\n"
     ]
    }
   ],
   "source": [
    "!PL_BACKEND=\"lightning_gpu\" python -m pip install -e . -vv"
   ]
  },
  {
   "cell_type": "code",
   "execution_count": 6,
   "metadata": {
    "id": "BCIQ5gKipCpb"
   },
   "outputs": [],
   "source": [
    "import numpy as np\n",
    "import matplotlib.pyplot as plt\n",
    "\n",
    "import torch\n",
    "from torch.autograd import Function\n",
    "from torchvision import datasets, transforms\n",
    "import torch.optim as optim\n",
    "from torch.optim import lr_scheduler\n",
    "import torch.nn as nn\n",
    "import torch.nn.functional as F\n",
    "\n",
    "import pennylane as qml\n",
    "from pennylane import numpy as np\n",
    "\n",
    "use_cuda = torch.cuda.is_available()\n",
    "device = torch.device(\"cuda\" if use_cuda else \"cpu\")"
   ]
  },
  {
   "cell_type": "markdown",
   "metadata": {
    "id": "wAs4SutCfM3T"
   },
   "source": [
    "Note that here we make use of the \"lightning.gpu\" device in order to have the pennylane code access the GPU.  Also a couple of lines to test that it's actually doing what's expected."
   ]
  },
  {
   "cell_type": "code",
   "execution_count": 7,
   "metadata": {
    "colab": {
     "base_uri": "https://localhost:8080/"
    },
    "id": "lZ0ULZQo4iJp",
    "outputId": "c51a7106-5523-4059-dc13-84dae86fa82c"
   },
   "outputs": [
    {
     "name": "stdout",
     "output_type": "stream",
     "text": [
      "dev=<default.qubit device (wires=4) at 0x24b236302d0>\n",
      "output=[tensor(-0.5907, dtype=torch.float64), tensor(0.2477, dtype=torch.float64), tensor(0.2684, dtype=torch.float64), tensor(-0.2593, dtype=torch.float64)]\n"
     ]
    }
   ],
   "source": [
    "n_qubits = 4\n",
    "if use_cuda is True:\n",
    "    dev = qml.device(\"lightning.gpu\", wires=n_qubits)\n",
    "else:\n",
    "    dev = qml.device(\"default.qubit\", wires=n_qubits)\n",
    "\n",
    "@qml.qnode(dev)\n",
    "def circuit(inputs, weights):\n",
    "    qml.AngleEmbedding(inputs, wires=range(n_qubits))\n",
    "    qml.BasicEntanglerLayers(weights, wires=range(n_qubits))\n",
    "    return [qml.expval(qml.PauliZ(wires=i)) for i in range(n_qubits)]\n",
    "\n",
    "print(f\"{dev=}\")\n",
    "\n",
    "input = torch.from_numpy(np.random.uniform(0, np.pi, (4,))).to(device)\n",
    "weights = torch.from_numpy(np.random.uniform(0, np.pi, (4, 4))).to(device)\n",
    "output = circuit(input, weights)\n",
    "print(f\"{output=}\")"
   ]
  },
  {
   "cell_type": "markdown",
   "metadata": {
    "id": "h32E5m9VhrIY"
   },
   "source": [
    "### Load MNIST Dataset\n",
    "\n",
    "Note that the images are resized to 14x14 here."
   ]
  },
  {
   "cell_type": "code",
   "execution_count": 8,
   "metadata": {
    "colab": {
     "base_uri": "https://localhost:8080/"
    },
    "id": "1y7-OA6WOQj_",
    "outputId": "a03621cc-36aa-41eb-c32d-35688b5cb15a"
   },
   "outputs": [],
   "source": [
    "import torch\n",
    "from torchvision import datasets, transforms\n",
    "# Loading of the MNIST dataset\n",
    "\n",
    "transformations = transforms.Compose(\n",
    "    [transforms.Resize(14),\n",
    "     transforms.ToTensor()]\n",
    ")\n",
    "train_data = datasets.MNIST(\n",
    "    root = 'data',\n",
    "    train = True,\n",
    "    transform = transformations,\n",
    "    download = True,\n",
    ")\n",
    "test_data = datasets.MNIST(\n",
    "    root = 'data',\n",
    "    train = False,\n",
    "    transform = transformations\n",
    ")"
   ]
  },
  {
   "cell_type": "markdown",
   "metadata": {
    "id": "i5vXzkKJgE8C"
   },
   "source": [
    "### Model Hyper-Parameters"
   ]
  },
  {
   "cell_type": "code",
   "execution_count": 9,
   "metadata": {
    "id": "1VHW-I5xOS0v"
   },
   "outputs": [],
   "source": [
    "#Setting of the main hyper-parameters of the model\n",
    "batch_size = 4\n",
    "n_train = batch_size * 125    # Size of the train dataset\n",
    "n_test = batch_size * 25     # Size of the test dataset\n",
    "n_channels = 4\n",
    "initial_lr = 0.003          # Define your initial learning rate\n",
    "num_epochs = 40"
   ]
  },
  {
   "cell_type": "markdown",
   "metadata": {
    "id": "LgAOg2-zgQLe"
   },
   "source": [
    "Note that in the 'quanv' function we need to copy the 'image' and 'weights' data to the CPU memory before converting to numpy arrays. There may be scope for further optimisation here but at the moment it seems that the PyTorch code requires it."
   ]
  },
  {
   "cell_type": "code",
   "execution_count": 10,
   "metadata": {
    "id": "WyFHBoMOOXbu"
   },
   "outputs": [],
   "source": [
    "def quanv(image, weights):\n",
    "    \"\"\"Convolves the input image with many applications of the same quantum circuit.\"\"\"\n",
    "    # PyTorch models generally require a 4D input tensor with the\n",
    "    # dimensions - (batch size, channels, height, width)\n",
    "    # input image shape is (batch_size, 1, 14, 14)\n",
    "    # output shape should be (batch_size, 4, 7, 7)\n",
    "    out = np.zeros((batch_size, 4, 7, 7))\n",
    "    l_image = image.detach().cpu().numpy()\n",
    "    l_weights = weights.detach().cpu().numpy()\n",
    "\n",
    "    for i in range(batch_size):\n",
    "        # Loop over the coordinates of the top-left pixel of 2X2 squares\n",
    "        for j in range(0, 14, 2):\n",
    "            for k in range(0, 14, 2):\n",
    "                # Process a squared 2x2 region of the image with a quantum circuit\n",
    "                q_results = circuit(\n",
    "                    [\n",
    "                        l_image[i, 0, j, k] * np.pi,\n",
    "                        l_image[i, 0, j, k + 1] * np.pi,\n",
    "                        l_image[i, 0, j + 1, k] * np.pi,\n",
    "                        l_image[i, 0, j + 1, k + 1] * np.pi\n",
    "                    ],\n",
    "                    l_weights\n",
    "                )\n",
    "                # Assign expectation values to different channels of the output pixel (j/2, k/2)\n",
    "                for c in range(n_channels):\n",
    "                    out[i, c, j // 2, k // 2] = q_results[c]\n",
    "    return out"
   ]
  },
  {
   "cell_type": "markdown",
   "metadata": {
    "id": "Dw50zD1qgp6B"
   },
   "source": [
    "Note that in the HybridFunction.forward method we need to copy the output from 'quanv' to GPU memory. That's done by the '.to(device)' call.  Likewise for the initial values of the 'weights' parameters."
   ]
  },
  {
   "cell_type": "code",
   "execution_count": 11,
   "metadata": {
    "id": "slcAuPHjOkUq"
   },
   "outputs": [],
   "source": [
    "# Custom nn.Module class for handling the quantum convolution\n",
    "class QuantConv(nn.Module):\n",
    "\n",
    "    # The number of layers in the BasicEntanglerLayers instance in\n",
    "    # the quantum convolver\n",
    "    LAYERS = 4\n",
    "\n",
    "    def __init__(self):\n",
    "        super(QuantConv, self).__init__()\n",
    "        # Initialise and register weights\n",
    "        # weights have shape (LAYERS, n_qubits) where LAYERS is the\n",
    "        # number of layers in the BasicEntanglerLayers\n",
    "        self.weights = nn.Parameter(\n",
    "            torch.from_numpy(np.random.uniform(\n",
    "                0, np.pi, (QuantConv.LAYERS, n_qubits)))).to(device)\n",
    "\n",
    "    def forward(self, input):\n",
    "        expectation_z = quanv(input, self.weights)\n",
    "        x = torch.tensor(expectation_z).to(device)\n",
    "        return x\n"
   ]
  },
  {
   "cell_type": "code",
   "execution_count": 12,
   "metadata": {
    "id": "dNWwY7CTO7BM"
   },
   "outputs": [],
   "source": [
    "class QuantModel(nn.Module):\n",
    "    def __init__(self):\n",
    "        super(QuantModel, self).__init__()\n",
    "        self.qconv = QuantConv()\n",
    "        self.fc1 = nn.Linear(4 * 7 * 7, 10)\n",
    "        self.double()\n",
    "\n",
    "    def forward(self, x):\n",
    "        # Propagate the input through the CNN layers\n",
    "        x = self.qconv(x)\n",
    "        # Flatten the output from the convolutional layer\n",
    "        x = torch.flatten(x, start_dim=1)\n",
    "        x = F.relu(self.fc1(x))\n",
    "        return x"
   ]
  },
  {
   "cell_type": "markdown",
   "metadata": {
    "id": "cyrIHOtthCnj"
   },
   "source": [
    "The following isn't strictly necessary but it makes for a 'sanity' check on the code. Note that inputs and labels are copied to GPU memory before calling quanv. This is also done in the training loop."
   ]
  },
  {
   "cell_type": "code",
   "execution_count": 13,
   "metadata": {
    "colab": {
     "base_uri": "https://localhost:8080/"
    },
    "id": "aUAQmCM6PAEN",
    "outputId": "ddc1dcd3-1fad-4f34-fef4-cd4ae7a07b33"
   },
   "outputs": [
    {
     "name": "stdout",
     "output_type": "stream",
     "text": [
      "inputs.shape=torch.Size([4, 1, 14, 14])\n",
      "labels=tensor([3, 5, 4, 4])\n",
      "Repeated labels=tensor([3, 3, 3, 3, 5, 5, 5, 5, 4, 4, 4, 4, 4, 4, 4, 4])\n",
      "outputs.shape=(4, 4, 7, 7)\n"
     ]
    }
   ],
   "source": [
    "# Run the quanv function on a batch of images\n",
    "dataset  = train_data\n",
    "train_size = n_train\n",
    "train_set, val_set = torch.utils.data.random_split(dataset, [train_size, len(dataset) - train_size])\n",
    "train_loader = torch.utils.data.DataLoader(train_set, batch_size=batch_size, shuffle=True)\n",
    "for data in train_loader:\n",
    "    inputs, labels = data\n",
    "    print(f\"{inputs.shape=}\")\n",
    "    print(f\"{labels=}\")\n",
    "    labels = labels.repeat_interleave(n_channels)\n",
    "    inputs, labels = inputs.to(device), labels.to(device)\n",
    "    weights = torch.from_numpy(np.random.uniform(0, np.pi, (4, 4)))\n",
    "    outputs = quanv(inputs, weights)\n",
    "    print(f\"Repeated {labels=}\")\n",
    "    print(f\"{outputs.shape=}\")\n",
    "    #print(f\"{outputs=}\")\n",
    "    break"
   ]
  },
  {
   "cell_type": "code",
   "execution_count": 14,
   "metadata": {
    "colab": {
     "base_uri": "https://localhost:8080/",
     "height": 812
    },
    "id": "_NPbZyTNRJ1A",
    "outputId": "9cd832a6-5e41-4639-b050-ad9c73bdb409"
   },
   "outputs": [
    {
     "data": {
      "image/png": "[encoded data removed]",
      "text/plain": [
       "<Figure size 1000x1000 with 20 Axes>"
      ]
     },
     "metadata": {},
     "output_type": "display_data"
    }
   ],
   "source": [
    "# Visualise the inputs/outputs from the quanv function\n",
    "l_inputs = inputs.cpu()\n",
    "n_samples = 4\n",
    "n_channels = 4\n",
    "fig, axes = plt.subplots(1 + n_channels, n_samples, figsize=(10, 10))\n",
    "for k in range(n_samples):\n",
    "    axes[0, 0].set_ylabel(\"Input\")\n",
    "    if k != 0:\n",
    "        axes[0, k].yaxis.set_visible(False)\n",
    "    axes[0, k].imshow(l_inputs[k, 0, :, :], cmap=\"gray\")\n",
    "\n",
    "    # Plot all output channels\n",
    "    for c in range(n_channels):\n",
    "        axes[c + 1, 0].set_ylabel(\"Output [ch. {}]\".format(c))\n",
    "        if k != 0:\n",
    "            axes[c, k].yaxis.set_visible(False)\n",
    "        axes[c + 1, k].set_title(f\"{labels[c+(k*n_samples)]}\")\n",
    "        axes[c + 1, k].imshow(outputs[k, c, :, :], cmap=\"gray\")\n",
    "\n",
    "plt.tight_layout()\n",
    "plt.show()"
   ]
  },
  {
   "cell_type": "markdown",
   "metadata": {
    "id": "4gBgKTzrVeel"
   },
   "source": [
    "### Create Data Loaders\n",
    "\n",
    "Data loaders for both the training and test/validation datasets are created here. In both cases, a random selection of n_train and n_test objects are taken from the full MNIST dataset.\n",
    "\n",
    "The indices of the selected objects are saved to a file (\"dataset_indices.pt\") so they can be reused at a later time if desired. The REGENERATE_INDICES_FILE should be set to *False* if a previously saved set of dataset indices is to be used and set to *True* if a new randomly selected set of indices should be used.\n",
    "\n",
    "Note that on colab, any saved index files should be downloaded to your local computer since colab will delete such files when the session is disconnected."
   ]
  },
  {
   "cell_type": "code",
   "execution_count": 15,
   "metadata": {
    "colab": {
     "base_uri": "https://localhost:8080/"
    },
    "id": "1fcJytqXzc71",
    "outputId": "17376eee-4137-45a2-b626-a45577ee8002"
   },
   "outputs": [
    {
     "name": "stdout",
     "output_type": "stream",
     "text": [
      "len(train_subset)=500\n",
      "len(test_subset)=100\n"
     ]
    },
    {
     "name": "stderr",
     "output_type": "stream",
     "text": [
      "C:\\Users\\harsh\\AppData\\Local\\Temp\\ipykernel_10836\\4181983067.py:22: FutureWarning: You are using `torch.load` with `weights_only=False` (the current default value), which uses the default pickle module implicitly. It is possible to construct malicious pickle data which will execute arbitrary code during unpickling (See https://github.com/pytorch/pytorch/blob/main/SECURITY.md#untrusted-models for more details). In a future release, the default value for `weights_only` will be flipped to `True`. This limits the functions that could be executed during unpickling. Arbitrary objects will no longer be allowed to be loaded via this mode unless they are explicitly allowlisted by the user via `torch.serialization.add_safe_globals`. We recommend you start setting `weights_only=True` for any use case where you don't have full control of the loaded file. Please open an issue on GitHub for any issues related to this experimental feature.\n",
      "  subset_indices_dict = torch.load(SUBSET_INDICES_FILE)\n"
     ]
    }
   ],
   "source": [
    "import os\n",
    "from pathlib import Path\n",
    "from torch.utils.data import Subset, DataLoader\n",
    "import torch\n",
    "\n",
    "# Set the working directory to your project folder\n",
    "os.chdir(\"C:/Users/harsh/Desktop/hybrid-quantum-classical-models-for-image-classification-main\")\n",
    "\n",
    "# Create a models directory if it doesn't exist\n",
    "MODEL_PATH = Path(\"models\")\n",
    "MODEL_PATH.mkdir(parents=True, exist_ok=True)\n",
    "\n",
    "# Path for the subset indices file\n",
    "SUBSET_INDICES_FILE = Path(\"C:/Users/harsh/Desktop/hybrid-quantum-classical-models-for-image-classification-main/hybrid-quantum-classical-models-for-image-classification-main/dataset_indices_500.pt\")\n",
    "\n",
    "# Set your desired training and testing sizes\n",
    "n_train = 1000  # Adjust as needed\n",
    "n_test = 200    # Adjust as needed\n",
    "batch_size = 32 # Adjust as needed\n",
    "\n",
    "# Load the subset indices from the specified file\n",
    "subset_indices_dict = torch.load(SUBSET_INDICES_FILE)\n",
    "\n",
    "# Create subsets using the loaded indices\n",
    "train_subset = Subset(train_data, subset_indices_dict['train_indices'])\n",
    "test_subset = Subset(test_data, subset_indices_dict['test_indices'])\n",
    "\n",
    "# Create DataLoaders for the subsets\n",
    "train_loader = DataLoader(train_subset, shuffle=True, batch_size=batch_size)  # Shuffling the training data is typical\n",
    "val_loader = DataLoader(test_subset, shuffle=False, batch_size=batch_size)\n",
    "\n",
    "# Print the sizes of the subsets\n",
    "print(f\"{len(train_subset)=}\")\n",
    "print(f\"{len(test_subset)=}\")\n"
   ]
  },
  {
   "cell_type": "markdown",
   "metadata": {
    "id": "CbP76WEdhVF9"
   },
   "source": [
    "### Training Loop"
   ]
  },
  {
   "cell_type": "code",
   "execution_count": 16,
   "metadata": {
    "id": "vDjf59GxR0PE",
    "scrolled": false
   },
   "outputs": [
    {
     "name": "stdout",
     "output_type": "stream",
     "text": [
      "epoch=0, lr=[0.01], 2024-10-15 20:50:21.894638\n",
      "Warning: Expected batch size 32, but got 20\n",
      "Training [10%]\tLoss: 2.2998\n",
      "Saving model state to models\\ImgClass-Quanvolv.pth\n",
      "Warning: Expected batch size 32, but got 4\n",
      "Accuracy on the validation set: 14.58%\n",
      "epoch=1, lr=[0.01], 2024-10-15 21:04:50.149547\n",
      "Warning: Expected batch size 32, but got 20\n",
      "Training [20%]\tLoss: 2.2796\n",
      "Saving model state to models\\ImgClass-Quanvolv.pth\n",
      "Warning: Expected batch size 32, but got 4\n",
      "Accuracy on the validation set: 17.71%\n",
      "epoch=2, lr=[0.01], 2024-10-15 21:17:13.935418\n",
      "Warning: Expected batch size 32, but got 20\n",
      "Training [30%]\tLoss: 2.2584\n",
      "Saving model state to models\\ImgClass-Quanvolv.pth\n",
      "Warning: Expected batch size 32, but got 4\n",
      "Accuracy on the validation set: 17.71%\n",
      "epoch=3, lr=[0.01], 2024-10-15 21:26:23.012024\n",
      "Warning: Expected batch size 32, but got 20\n",
      "Training [40%]\tLoss: 2.2406\n",
      "Saving model state to models\\ImgClass-Quanvolv.pth\n",
      "Warning: Expected batch size 32, but got 4\n",
      "Accuracy on the validation set: 17.71%\n",
      "epoch=4, lr=[0.01], 2024-10-15 21:35:38.532025\n",
      "Warning: Expected batch size 32, but got 20\n",
      "Training [50%]\tLoss: 2.2234\n",
      "Saving model state to models\\ImgClass-Quanvolv.pth\n",
      "Warning: Expected batch size 32, but got 4\n",
      "Accuracy on the validation set: 18.75%\n",
      "epoch=5, lr=[0.01], 2024-10-15 21:44:33.204430\n",
      "Warning: Expected batch size 32, but got 20\n",
      "Training [60%]\tLoss: 2.2051\n",
      "Saving model state to models\\ImgClass-Quanvolv.pth\n",
      "Warning: Expected batch size 32, but got 4\n",
      "Accuracy on the validation set: 20.83%\n",
      "epoch=6, lr=[0.01], 2024-10-15 21:54:05.412733\n",
      "Warning: Expected batch size 32, but got 20\n",
      "Training [70%]\tLoss: 2.1874\n",
      "Saving model state to models\\ImgClass-Quanvolv.pth\n",
      "Warning: Expected batch size 32, but got 4\n",
      "Accuracy on the validation set: 23.96%\n",
      "epoch=7, lr=[0.01], 2024-10-15 21:59:06.478269\n",
      "Warning: Expected batch size 32, but got 20\n",
      "Training [80%]\tLoss: 2.1702\n",
      "Saving model state to models\\ImgClass-Quanvolv.pth\n",
      "Warning: Expected batch size 32, but got 4\n",
      "Accuracy on the validation set: 26.04%\n",
      "epoch=8, lr=[0.01], 2024-10-15 22:03:37.137167\n",
      "Warning: Expected batch size 32, but got 20\n",
      "Training [90%]\tLoss: 2.1526\n",
      "Saving model state to models\\ImgClass-Quanvolv.pth\n",
      "Warning: Expected batch size 32, but got 4\n",
      "Accuracy on the validation set: 27.08%\n",
      "epoch=9, lr=[0.01], 2024-10-15 22:08:55.502970\n",
      "Warning: Expected batch size 32, but got 20\n",
      "Training [100%]\tLoss: 2.1418\n",
      "Saving model state to models\\ImgClass-Quanvolv.pth\n",
      "Warning: Expected batch size 32, but got 4\n",
      "Accuracy on the validation set: 29.17%\n",
      "Finished Training\n"
     ]
    }
   ],
   "source": [
    "import datetime\n",
    "from pathlib import Path\n",
    "import torch\n",
    "import torch.nn as nn\n",
    "import torch.optim as optim\n",
    "from torch.utils.data import DataLoader\n",
    "from torch.optim import lr_scheduler\n",
    "\n",
    "# Set device\n",
    "device = torch.device(\"cuda\" if torch.cuda.is_available() else \"cpu\")\n",
    "\n",
    "# Define parameters\n",
    "initial_lr = 0.01  # Learning rate\n",
    "num_epochs = 10    # Number of epochs\n",
    "batch_size = 32    # Batch size\n",
    "\n",
    "# Initialize your QCNN model\n",
    "cnn = QuantModel().to(device)\n",
    "\n",
    "# Define loss function and optimizer\n",
    "criterion = nn.CrossEntropyLoss()\n",
    "optimizer = optim.SGD(cnn.parameters(), lr=initial_lr, momentum=0.9)\n",
    "\n",
    "# Create a learning rate scheduler\n",
    "scheduler = lr_scheduler.StepLR(optimizer, step_size=1, gamma=1.0)\n",
    "\n",
    "# Load train data\n",
    "train_loader = DataLoader(train_subset, shuffle=True, batch_size=batch_size)\n",
    "\n",
    "MODEL_NAME = \"ImgClass-Quanvolv.pth\"\n",
    "MODEL_SAVE_PATH = MODEL_PATH / MODEL_NAME\n",
    "\n",
    "RESUME_TRAINING = False\n",
    "\n",
    "if RESUME_TRAINING:\n",
    "    print(f\"Restore model state from {MODEL_SAVE_PATH}\")\n",
    "    model_dict = torch.load(MODEL_SAVE_PATH)\n",
    "    initial_epoch = model_dict['epoch'] + 1\n",
    "    cnn.load_state_dict(model_dict['model_state_dict'])\n",
    "    optimizer.load_state_dict(model_dict['optimizer_state_dict'])\n",
    "    loss_list = model_dict['loss'].copy()\n",
    "else:\n",
    "    initial_epoch = 0\n",
    "    loss_list = []\n",
    "\n",
    "for epoch in range(initial_epoch, num_epochs):\n",
    "    cnn.train()\n",
    "    ct = datetime.datetime.now()\n",
    "    lr = scheduler.get_last_lr()\n",
    "    print(f\"{epoch=}, {lr=}, {ct}\")\n",
    "    running_loss = []\n",
    "\n",
    "    for i, data in enumerate(train_loader):\n",
    "        inputs, labels = data\n",
    "\n",
    "        # Check input shape\n",
    "        if inputs.ndim == 3:  # If the input is missing the channel dimension\n",
    "            inputs = inputs.unsqueeze(1)  # Add channel dimension\n",
    "\n",
    "        # Ensure inputs and labels are on the correct device\n",
    "        inputs, labels = inputs.to(device), labels.to(device)\n",
    "\n",
    "        # Check for correct batch size\n",
    "        if inputs.size(0) != batch_size:\n",
    "            print(f\"Warning: Expected batch size {batch_size}, but got {inputs.size(0)}\")\n",
    "            continue  # Skip this batch if size does not match\n",
    "\n",
    "        optimizer.zero_grad()  # Zero the parameter gradients\n",
    "        outputs = cnn(inputs)  # Forward pass\n",
    "        loss = criterion(outputs, labels)  # Compute the loss\n",
    "        loss.backward()  # Backpropagation\n",
    "        running_loss.append(loss.item())\n",
    "        optimizer.step()  # Update the model parameters\n",
    "\n",
    "    loss_list.append(sum(running_loss) / len(running_loss))\n",
    "\n",
    "    print('Training [{:.0f}%]\\tLoss: {:.4f}'.format(100. * (epoch + 1) / num_epochs, loss_list[-1]))\n",
    "\n",
    "    torch.save({\n",
    "        'epoch': epoch,\n",
    "        'model_state_dict': cnn.state_dict(),\n",
    "        'optimizer_state_dict': optimizer.state_dict(),\n",
    "        'loss': loss_list,\n",
    "    }, MODEL_SAVE_PATH)\n",
    "    print(f\"Saving model state to {MODEL_SAVE_PATH}\")\n",
    "\n",
    "    # Validation\n",
    "    val_loader = DataLoader(test_subset, shuffle=False, batch_size=batch_size)\n",
    "    correct = 0\n",
    "    total = 0\n",
    "    cnn.eval()\n",
    "\n",
    "    with torch.inference_mode():\n",
    "        for data in val_loader:\n",
    "            images, labels = data\n",
    "            if images.ndim == 3:  # Ensure images have the channel dimension\n",
    "                images = images.unsqueeze(1)  # Add channel dimension if missing\n",
    "\n",
    "            images, labels = images.to(device), labels.to(device)\n",
    "\n",
    "            # Check for correct batch size\n",
    "            if images.size(0) != batch_size:\n",
    "                print(f\"Warning: Expected batch size {batch_size}, but got {images.size(0)}\")\n",
    "                continue  # Skip this batch if size does not match\n",
    "\n",
    "            outputs = cnn(images)\n",
    "            _, predicted = torch.max(outputs.data, 1)\n",
    "            total += labels.size(0)\n",
    "            correct += (predicted == labels).sum().item()\n",
    "\n",
    "    print(f'Accuracy on the validation set: {100 * correct / total:.2f}%')\n",
    "\n",
    "    # Decay Learning Rate\n",
    "    scheduler.step()\n",
    "\n",
    "print('Finished Training')\n"
   ]
  },
  {
   "cell_type": "code",
   "execution_count": 17,
   "metadata": {},
   "outputs": [
    {
     "name": "stdout",
     "output_type": "stream",
     "text": [
      "Input shape: torch.Size([4])\n"
     ]
    }
   ],
   "source": [
    "print(f\"Input shape: {input.shape}\")\n"
   ]
  },
  {
   "cell_type": "markdown",
   "metadata": {
    "id": "j8H77i8ehkdq"
   },
   "source": [
    "### Model Inference\n",
    "\n",
    "The problem with the 'IndexError' exception has now been fixed."
   ]
  },
  {
   "cell_type": "code",
   "execution_count": null,
   "metadata": {
    "id": "7DnoVGSNNwmu"
   },
   "outputs": [],
   "source": []
  },
  {
   "cell_type": "code",
   "execution_count": 18,
   "metadata": {},
   "outputs": [
    {
     "name": "stdout",
     "output_type": "stream",
     "text": [
      "Warning: Expected batch size 32, but got 4\n",
      "Accuracy on the validation set: 29.17%\n",
      "Precision: 0.14, Recall: 0.29, F1 Score: 0.17\n"
     ]
    }
   ],
   "source": [
    "import numpy as np\n",
    "from sklearn.metrics import precision_score, recall_score, f1_score\n",
    "\n",
    "# Define the accuracy calculation function\n",
    "def calculate_accuracy(predictions, labels):\n",
    "    correct = (predictions == labels).sum().item()\n",
    "    total = labels.size(0)\n",
    "    accuracy = 100 * correct / total if total > 0 else 0\n",
    "    return accuracy\n",
    "\n",
    "# Define the metrics calculation function\n",
    "def calculate_metrics(y_true, y_pred):\n",
    "    precision = precision_score(y_true, y_pred, average='weighted', zero_division=0)\n",
    "    recall = recall_score(y_true, y_pred, average='weighted', zero_division=0)\n",
    "    f1 = f1_score(y_true, y_pred, average='weighted', zero_division=0)\n",
    "    \n",
    "    return precision, recall, f1\n",
    "\n",
    "# Your existing training and model code goes here...\n",
    "\n",
    "# Validation\n",
    "val_loader = DataLoader(test_subset, shuffle=False, batch_size=batch_size)\n",
    "y_true = []\n",
    "y_pred = []\n",
    "cnn.eval()\n",
    "\n",
    "with torch.inference_mode():\n",
    "    for data in val_loader:\n",
    "        images, labels = data\n",
    "        if images.ndim == 3:  # Ensure images have the channel dimension\n",
    "            images = images.unsqueeze(1)  # Add channel dimension if missing\n",
    "\n",
    "        images, labels = images.to(device), labels.to(device)\n",
    "\n",
    "        # Check for correct batch size\n",
    "        if images.size(0) != batch_size:\n",
    "            print(f\"Warning: Expected batch size {batch_size}, but got {images.size(0)}\")\n",
    "            continue  # Skip this batch if size does not match\n",
    "\n",
    "        outputs = cnn(images)\n",
    "        _, predicted = torch.max(outputs.data, 1)\n",
    "\n",
    "        # Store true and predicted labels\n",
    "        y_true.extend(labels.cpu().numpy())\n",
    "        y_pred.extend(predicted.cpu().numpy())\n",
    "\n",
    "# Calculate accuracy\n",
    "accuracy = calculate_accuracy(torch.tensor(y_pred), torch.tensor(y_true))\n",
    "print(f'Accuracy on the validation set: {accuracy:.2f}%')\n",
    "\n",
    "# Calculate precision, recall, and F1 score\n",
    "precision, recall, f1 = calculate_metrics(np.array(y_true), np.array(y_pred))\n",
    "print(f'Precision: {precision:.2f}, Recall: {recall:.2f}, F1 Score: {f1:.2f}')\n"
   ]
  },
  {
   "cell_type": "code",
   "execution_count": null,
   "metadata": {},
   "outputs": [],
   "source": []
  },
  {
   "cell_type": "code",
   "execution_count": null,
   "metadata": {},
   "outputs": [],
   "source": []
  },
  {
   "cell_type": "code",
   "execution_count": null,
   "metadata": {},
   "outputs": [],
   "source": []
  }
 ],
 "metadata": {
  "accelerator": "GPU",
  "colab": {
   "gpuType": "T4",
   "provenance": []
  },
  "kernelspec": {
   "display_name": "Python 3 (ipykernel)",
   "language": "python",
   "name": "python3"
  },
  "language_info": {
   "codemirror_mode": {
    "name": "ipython",
    "version": 3
   },
   "file_extension": ".py",
   "mimetype": "text/x-python",
   "name": "python",
   "nbconvert_exporter": "python",
   "pygments_lexer": "ipython3",
   "version": "3.11.7"
  }
 },
 "nbformat": 4,
 "nbformat_minor": 1
}
