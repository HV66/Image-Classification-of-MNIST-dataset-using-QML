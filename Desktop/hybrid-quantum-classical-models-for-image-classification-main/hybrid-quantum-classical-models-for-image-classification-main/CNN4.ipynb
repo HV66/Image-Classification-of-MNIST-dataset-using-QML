{
 "cells": [
  {
   "cell_type": "markdown",
   "metadata": {
    "id": "b56c8rM5cN-U"
   },
   "source": [
    "#CNN4"
   ]
  },
  {
   "cell_type": "code",
   "execution_count": 1,
   "metadata": {
    "id": "-RM98MtEeTww"
   },
   "outputs": [],
   "source": [
    "import numpy as np\n",
    "import matplotlib.pyplot as plt\n",
    "\n",
    "from pathlib import Path\n",
    "\n",
    "import torch\n",
    "from torch.autograd import Function\n",
    "from torchvision import datasets, transforms\n",
    "import torch.optim as optim\n",
    "from torch.optim import lr_scheduler\n",
    "import torch.nn as nn\n",
    "import torch.nn.functional as F\n",
    "\n"
   ]
  },
  {
   "cell_type": "code",
   "execution_count": 2,
   "metadata": {
    "id": "_I845zHUeoXV"
   },
   "outputs": [],
   "source": [
    "# Loading of the MNIST dataset\n",
    "train_data = datasets.MNIST(\n",
    "    root = 'data',  # root: The root directory where the dataset should be stored. In this case, it is set to 'data'. If the 'data' directory doesn't exist, the dataset will be downloaded to this location.\n",
    "    train = True,\n",
    "    transform = transforms.ToTensor(),  # transform: This parameter applies transformations to the data. In this case, transforms.ToTensor() is used to convert the images to PyTorch tensors.\n",
    "    download = True,\n",
    ")\n",
    "test_data = datasets.MNIST(\n",
    "    root = 'data',\n",
    "    train = False,\n",
    "    transform = transforms.ToTensor()\n",
    ")"
   ]
  },
  {
   "cell_type": "code",
   "execution_count": 3,
   "metadata": {
    "id": "yFlOU3zGecUq"
   },
   "outputs": [],
   "source": [
    "#Setting of the main hyper-parameters of the model\n",
    "batch_size = 4 # The number of samples in each mini-batch used during training. Smaller batch sizes can lead to faster convergence but may introduce more noise into the training process.\n",
    "n_train = batch_size * 125    # The total size of the training dataset. It's calculated as the product of batch_size and the number of batches (125 in this case). Adjusting the training dataset size can impact the model's ability to generalize.\n",
    "n_test = batch_size * 25     # The total size of the test dataset. Similar to n_train, it's calculated as the product of batch_size and the number of test batches (25 in this case). The test dataset is used to evaluate the model's performance on unseen data.\n",
    "n_channels = 4  # The number of channels in the output of the quantum convolution layer. In your model, you have set it to 4. This parameter determines the depth of the feature maps produced by the convolutional layer.\n",
    "initial_lr =  0.005     # The initial learning rate for the stochastic gradient descent (SGD) optimizer."
   ]
  },
  {
   "cell_type": "code",
   "execution_count": 4,
   "metadata": {
    "id": "-3CmM5H-BOh5"
   },
   "outputs": [],
   "source": [
    "class Net(nn.Module):\n",
    "    def __init__(self):\n",
    "        super(Net, self).__init__()\n",
    "        # Convolutional layer 1 with 1 input channels, 4 output channels, and 4x4 kernel\n",
    "        self.conv = nn.Conv2d(1, 4, 4, stride=4)\n",
    "        self.fc = nn.Linear(4 * 7 * 7, 10)\n",
    "\n",
    "    def forward(self, x):\n",
    "        # Propagate the input through the CNN layers\n",
    "        x = self.conv(x)\n",
    "        # Flatten the output from the convolutional layer\n",
    "        x = torch.flatten(x, start_dim=1)\n",
    "        x = F.relu(self.fc(x))\n",
    "        return x\n",
    "cnn=Net()"
   ]
  },
  {
   "cell_type": "code",
   "execution_count": 5,
   "metadata": {
    "colab": {
     "base_uri": "https://localhost:8080/"
    },
    "id": "QlHwR2hdRzb2",
    "outputId": "d4510d66-8f4f-4807-f13f-30d9c0402f10"
   },
   "outputs": [
    {
     "name": "stdout",
     "output_type": "stream",
     "text": [
      "inputs.shape=torch.Size([4, 1, 28, 28])\n",
      "labels=tensor([4, 6, 5, 4])\n",
      "outputs.shape=torch.Size([4, 10])\n",
      "outputs=tensor([[0.0098, 0.0740, 0.0316, 0.0000, 0.0000, 0.0000, 0.0000, 0.0000, 0.2329,\n",
      "         0.0000],\n",
      "        [0.0000, 0.1449, 0.2362, 0.0000, 0.0000, 0.0000, 0.1163, 0.0608, 0.2323,\n",
      "         0.0000],\n",
      "        [0.0000, 0.1602, 0.1773, 0.0000, 0.0075, 0.1945, 0.0000, 0.0000, 0.3285,\n",
      "         0.0000],\n",
      "        [0.0000, 0.0613, 0.1005, 0.0000, 0.0000, 0.0000, 0.0000, 0.3825, 0.0712,\n",
      "         0.0000]], grad_fn=<ReluBackward0>)\n"
     ]
    }
   ],
   "source": [
    "dataset  = train_data\n",
    "train_size = n_train\n",
    "train_set, val_set = torch.utils.data.random_split(dataset, [train_size, len(dataset) - train_size])\n",
    "train_loader = torch.utils.data.DataLoader(train_set, batch_size=batch_size, shuffle=True)\n",
    "for data in train_loader:\n",
    "    inputs, labels = data\n",
    "    print(f\"{inputs.shape=}\")\n",
    "    print(f\"{labels=}\")\n",
    "    outputs = cnn(inputs)\n",
    "    print(f\"{outputs.shape=}\")\n",
    "    print(f\"{outputs=}\")\n",
    "    break"
   ]
  },
  {
   "cell_type": "code",
   "execution_count": 6,
   "metadata": {
    "colab": {
     "base_uri": "https://localhost:8080/"
    },
    "id": "RCxAXutdvoRg",
    "outputId": "4668e779-7c7e-4410-9b25-695de58a33b8"
   },
   "outputs": [
    {
     "name": "stdout",
     "output_type": "stream",
     "text": [
      "epoch=0, lr=[0.005], 2024-10-15 20:49:20.067674\n",
      "Training [5%]\tLoss: 2.2053\n",
      "Saving model state to models\\ImgClass-Quanvolv.pth\n",
      "epoch=1, lr=[0.005], 2024-10-15 20:49:21.015714\n",
      "Training [10%]\tLoss: 1.7037\n",
      "Saving model state to models\\ImgClass-Quanvolv.pth\n",
      "epoch=2, lr=[0.005], 2024-10-15 20:49:21.784090\n",
      "Training [15%]\tLoss: 1.4835\n",
      "Saving model state to models\\ImgClass-Quanvolv.pth\n",
      "epoch=3, lr=[0.005], 2024-10-15 20:49:22.518950\n",
      "Training [20%]\tLoss: 1.4110\n",
      "Saving model state to models\\ImgClass-Quanvolv.pth\n",
      "epoch=4, lr=[0.005], 2024-10-15 20:49:23.410651\n",
      "Training [25%]\tLoss: 1.3557\n",
      "Saving model state to models\\ImgClass-Quanvolv.pth\n",
      "epoch=5, lr=[0.005], 2024-10-15 20:49:24.540201\n",
      "Training [30%]\tLoss: 1.3359\n",
      "Saving model state to models\\ImgClass-Quanvolv.pth\n",
      "epoch=6, lr=[0.005], 2024-10-15 20:49:25.341898\n",
      "Training [35%]\tLoss: 1.3124\n",
      "Saving model state to models\\ImgClass-Quanvolv.pth\n",
      "epoch=7, lr=[0.005], 2024-10-15 20:49:26.012129\n",
      "Training [40%]\tLoss: 1.2842\n",
      "Saving model state to models\\ImgClass-Quanvolv.pth\n",
      "epoch=8, lr=[0.005], 2024-10-15 20:49:26.725994\n",
      "Training [45%]\tLoss: 1.2758\n",
      "Saving model state to models\\ImgClass-Quanvolv.pth\n",
      "epoch=9, lr=[0.005], 2024-10-15 20:49:27.503532\n",
      "Training [50%]\tLoss: 1.2589\n",
      "Saving model state to models\\ImgClass-Quanvolv.pth\n",
      "epoch=10, lr=[0.005], 2024-10-15 20:49:28.430344\n",
      "Training [55%]\tLoss: 1.2492\n",
      "Saving model state to models\\ImgClass-Quanvolv.pth\n",
      "epoch=11, lr=[0.005], 2024-10-15 20:49:29.213576\n",
      "Training [60%]\tLoss: 1.2358\n",
      "Saving model state to models\\ImgClass-Quanvolv.pth\n",
      "epoch=12, lr=[0.005], 2024-10-15 20:49:29.959539\n",
      "Training [65%]\tLoss: 1.2463\n",
      "Saving model state to models\\ImgClass-Quanvolv.pth\n",
      "epoch=13, lr=[0.005], 2024-10-15 20:49:30.740024\n",
      "Training [70%]\tLoss: 1.2265\n",
      "Saving model state to models\\ImgClass-Quanvolv.pth\n",
      "epoch=14, lr=[0.005], 2024-10-15 20:49:31.785809\n",
      "Training [75%]\tLoss: 1.2105\n",
      "Saving model state to models\\ImgClass-Quanvolv.pth\n",
      "epoch=15, lr=[0.005], 2024-10-15 20:49:32.585871\n",
      "Training [80%]\tLoss: 1.2001\n",
      "Saving model state to models\\ImgClass-Quanvolv.pth\n",
      "epoch=16, lr=[0.005], 2024-10-15 20:49:33.583980\n",
      "Training [85%]\tLoss: 1.1969\n",
      "Saving model state to models\\ImgClass-Quanvolv.pth\n",
      "epoch=17, lr=[0.005], 2024-10-15 20:49:34.369236\n",
      "Training [90%]\tLoss: 1.1927\n",
      "Saving model state to models\\ImgClass-Quanvolv.pth\n",
      "epoch=18, lr=[0.005], 2024-10-15 20:49:35.073501\n",
      "Training [95%]\tLoss: 1.1918\n",
      "Saving model state to models\\ImgClass-Quanvolv.pth\n",
      "epoch=19, lr=[0.005], 2024-10-15 20:49:35.791089\n",
      "Training [100%]\tLoss: 1.1862\n",
      "Saving model state to models\\ImgClass-Quanvolv.pth\n",
      "Finished Training\n"
     ]
    }
   ],
   "source": [
    "# Train the model\n",
    "\n",
    "import datetime\n",
    "import os\n",
    "\n",
    "dataset  = train_data\n",
    "\n",
    "# Initialize your QCNN model\n",
    "cnn = Net()\n",
    "\n",
    "# Define loss function and optimizer\n",
    "criterion = nn.CrossEntropyLoss()  # Cross-entropy loss for classification\n",
    "optimizer = optim.SGD(cnn.parameters(), lr=initial_lr, momentum=0.90)  # Stochastic Gradient Descent optimizer\n",
    "# Create a learning rate scheduler\n",
    "# Here, we use StepLR which reduces the learning rate by a factor every step_size epochs\n",
    "scheduler = lr_scheduler.StepLR(optimizer, step_size=1, gamma=1.0)\n",
    "# Split your data into training and validation sets\n",
    "train_size = n_train\n",
    "train_set, val_set = torch.utils.data.random_split(dataset, [train_size, len(dataset) - train_size])\n",
    "train_loader = torch.utils.data.DataLoader(train_set, batch_size=batch_size, shuffle=True)\n",
    "val_loader = torch.utils.data.DataLoader(val_set, batch_size=batch_size, shuffle=False)\n",
    "\n",
    "MODEL_PATH = Path(\"models\")\n",
    "MODEL_PATH.mkdir(parents=True, exist_ok=True)\n",
    "\n",
    "MODEL_NAME = \"ImgClass-Quanvolv.pth\"\n",
    "MODEL_SAVE_PATH = MODEL_PATH / MODEL_NAME\n",
    "\n",
    "RESUME_TRAINING = True\n",
    "\n",
    "# Training loop\n",
    "num_epochs = 20\n",
    "loss_list = []\n",
    "cnn.train()\n",
    "\n",
    "if RESUME_TRAINING is False:\n",
    "    print(f\"Restore model state from {MODEL_SAVE_PATH}\")\n",
    "    if os.path.exists(MODEL_SAVE_PATH):\n",
    "        model_dict = torch.load(MODEL_SAVE_PATH)\n",
    "        initial_epoch = model_dict['epoch'] + 1\n",
    "        cnn.load_state_dict(model_dict['model_state_dict'])\n",
    "        optimizer.load_state_dict(model_dict['optimizer_state_dict'])\n",
    "        loss_list = model_dict['loss'].copy()\n",
    "    else:\n",
    "        print(f\"No saved model state found. Training from scratch.\")\n",
    "        initial_epoch = 0\n",
    "        loss_list = []\n",
    "else:\n",
    "    initial_epoch = 0\n",
    "    loss_list = []\n",
    "\n",
    "for epoch in range(num_epochs):\n",
    "    ct = datetime.datetime.now()\n",
    "    # Decay Learning Rate\n",
    "    optimizer.step()\n",
    "    scheduler.step()\n",
    "    lr = scheduler.get_last_lr()\n",
    "    print(f\"{epoch=}, {lr=}, {ct}\")\n",
    "    running_loss = []\n",
    "    for i, data in enumerate(train_loader, 0):\n",
    "        inputs, labels = data\n",
    "        optimizer.zero_grad()  # Zero the parameter gradients to avoid accumulation\n",
    "        outputs = cnn(inputs)  # Forward pass\n",
    "        loss = criterion(outputs, labels)  # Compute the loss\n",
    "        loss.backward()  # Backpropagation\n",
    "        running_loss.append(loss.item())\n",
    "        optimizer.step()  # Update the model parameters\n",
    "    loss_list.append(sum(running_loss) / len(running_loss))\n",
    "    print('Training [{:.0f}%]\\tLoss: {:.4f}'.format(100. * (epoch + 1) / num_epochs, loss_list[-1]))\n",
    "    torch.save({\n",
    "        'epoch': epoch,\n",
    "        'model_state_dict': cnn.state_dict(),\n",
    "        'optimizer_state_dict': optimizer.state_dict(),\n",
    "        'loss': loss_list,\n",
    "    }, MODEL_SAVE_PATH)\n",
    "    print(f\"Saving model state to {MODEL_SAVE_PATH}\")\n",
    "\n",
    "print('Finished Training')"
   ]
  },
  {
   "cell_type": "code",
   "execution_count": 7,
   "metadata": {
    "colab": {
     "base_uri": "https://localhost:8080/"
    },
    "id": "nUl3J1rhtfvQ",
    "outputId": "be827968-f89b-4514-8e5a-d9efb0532f0a"
   },
   "outputs": [
    {
     "data": {
      "text/plain": [
       "OrderedDict([('conv.weight',\n",
       "              tensor([[[[-1.5493e-01,  6.1699e-02, -3.4229e-01, -5.7181e-01],\n",
       "                        [ 1.3176e-01, -4.4332e-01, -8.5191e-01, -7.0117e-01],\n",
       "                        [-7.6336e-02, -5.5908e-01, -6.2234e-01, -9.7374e-01],\n",
       "                        [-6.8768e-01, -5.2798e-01, -8.6005e-01, -1.0156e+00]]],\n",
       "              \n",
       "              \n",
       "                      [[[-2.1123e-01, -1.4189e-01,  4.4162e-02,  3.0915e-01],\n",
       "                        [ 1.6275e-01,  2.9751e-01,  3.0260e-01,  6.7250e-01],\n",
       "                        [ 2.3246e-01,  4.3027e-01,  5.7225e-01,  4.0087e-01],\n",
       "                        [-1.6238e-01,  4.4946e-02,  2.6196e-01,  1.2477e-01]]],\n",
       "              \n",
       "              \n",
       "                      [[[ 7.9610e-01,  6.7278e-01,  5.1429e-01,  5.8536e-01],\n",
       "                        [ 1.5719e-01,  1.0988e-01, -7.4023e-02, -1.1513e-03],\n",
       "                        [-5.4425e-01, -4.7641e-01, -3.8050e-01, -5.2670e-01],\n",
       "                        [-1.1971e+00, -6.9468e-01, -3.3018e-01, -7.3579e-01]]],\n",
       "              \n",
       "              \n",
       "                      [[[ 1.4514e+00,  1.0048e+00,  3.0690e-01,  7.6813e-01],\n",
       "                        [ 1.2464e+00,  8.0018e-01,  8.9666e-02,  4.6826e-01],\n",
       "                        [ 8.7815e-01,  8.7013e-02, -1.8207e-01, -1.8371e-02],\n",
       "                        [ 2.7175e-01, -4.4869e-01, -1.9330e-01, -1.1375e-01]]]])),\n",
       "             ('conv.bias', tensor([ 0.6216, -0.2306,  0.1727, -0.5678])),\n",
       "             ('fc.weight',\n",
       "              tensor([[ 0.0297, -0.0696, -0.0075,  ..., -0.0485,  0.0516,  0.0310],\n",
       "                      [ 0.0356, -0.0262, -0.0264,  ...,  0.0100, -0.0553,  0.0595],\n",
       "                      [-0.0114, -0.1017, -0.0912,  ..., -0.1107, -0.0853, -0.0178],\n",
       "                      ...,\n",
       "                      [ 0.0593,  0.0576,  0.0294,  ..., -0.0259,  0.0586,  0.0775],\n",
       "                      [ 0.0330,  0.0113, -0.0011,  ...,  0.0061,  0.0542,  0.0135],\n",
       "                      [ 0.0422, -0.0092, -0.0581,  ...,  0.0138, -0.0122,  0.0250]])),\n",
       "             ('fc.bias',\n",
       "              tensor([-0.1101, -0.0051, -0.0606, -0.1138, -0.0322,  0.1126,  0.0983, -0.0900,\n",
       "                      -0.1145, -0.0909]))])"
      ]
     },
     "execution_count": 7,
     "metadata": {},
     "output_type": "execute_result"
    }
   ],
   "source": [
    "cnn.state_dict()"
   ]
  },
  {
   "cell_type": "code",
   "execution_count": 8,
   "metadata": {
    "colab": {
     "base_uri": "https://localhost:8080/"
    },
    "id": "EZCJdLCoqc10",
    "outputId": "25720c9e-cc37-484b-ccbf-fe25eba068c6"
   },
   "outputs": [
    {
     "name": "stdout",
     "output_type": "stream",
     "text": [
      "Accuracy on the validation set: 41.00%\n"
     ]
    }
   ],
   "source": [
    "#accuracy\n",
    "\n",
    "# Use a small subset of the full validation dataset\n",
    "from torch.utils.data import SubsetRandomSampler\n",
    "\n",
    "K = n_test # enter your length here\n",
    "subsample_train_indices = torch.randperm(len(val_set))[:K]\n",
    "val_loader = torch.utils.data.DataLoader(val_set, batch_size=batch_size, sampler=SubsetRandomSampler(subsample_train_indices))\n",
    "\n",
    "correct = 0\n",
    "total = 0\n",
    "# Set the model to evaluation mode\n",
    "cnn.eval()\n",
    "with torch.inference_mode():\n",
    "    for data in val_loader:\n",
    "        images, labels = data\n",
    "        outputs = cnn(images)\n",
    "        _, predicted = torch.max(outputs.data, 1)\n",
    "        total += labels.size(0)\n",
    "        correct += (predicted == labels).sum().item()\n",
    "print(f'Accuracy on the validation set: {100 * correct / total:.2f}%')"
   ]
  }
 ],
 "metadata": {
  "colab": {
   "provenance": []
  },
  "kernelspec": {
   "display_name": "Python 3 (ipykernel)",
   "language": "python",
   "name": "python3"
  },
  "language_info": {
   "codemirror_mode": {
    "name": "ipython",
    "version": 3
   },
   "file_extension": ".py",
   "mimetype": "text/x-python",
   "name": "python",
   "nbconvert_exporter": "python",
   "pygments_lexer": "ipython3",
   "version": "3.11.7"
  }
 },
 "nbformat": 4,
 "nbformat_minor": 1
}
