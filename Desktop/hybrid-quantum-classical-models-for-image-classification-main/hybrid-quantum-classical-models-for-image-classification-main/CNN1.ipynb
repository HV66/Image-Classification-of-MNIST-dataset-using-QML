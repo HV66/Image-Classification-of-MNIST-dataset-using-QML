{
 "cells": [
  {
   "cell_type": "markdown",
   "metadata": {
    "id": "b56c8rM5cN-U"
   },
   "source": [
    "\n",
    "\n",
    "#CNN1"
   ]
  },
  {
   "cell_type": "code",
   "execution_count": 1,
   "metadata": {},
   "outputs": [
    {
     "name": "stdout",
     "output_type": "stream",
     "text": [
      "Requirement already satisfied: torch in c:\\users\\harsh\\anaconda3\\lib\\site-packages (2.4.1)\n",
      "Requirement already satisfied: filelock in c:\\users\\harsh\\anaconda3\\lib\\site-packages (from torch) (3.13.1)\n",
      "Requirement already satisfied: typing-extensions>=4.8.0 in c:\\users\\harsh\\anaconda3\\lib\\site-packages (from torch) (4.9.0)\n",
      "Requirement already satisfied: sympy in c:\\users\\harsh\\anaconda3\\lib\\site-packages (from torch) (1.12)\n",
      "Requirement already satisfied: networkx in c:\\users\\harsh\\anaconda3\\lib\\site-packages (from torch) (3.1)\n",
      "Requirement already satisfied: jinja2 in c:\\users\\harsh\\anaconda3\\lib\\site-packages (from torch) (3.1.3)\n",
      "Requirement already satisfied: fsspec in c:\\users\\harsh\\anaconda3\\lib\\site-packages (from torch) (2023.10.0)\n",
      "Requirement already satisfied: MarkupSafe>=2.0 in c:\\users\\harsh\\anaconda3\\lib\\site-packages (from jinja2->torch) (2.1.3)\n",
      "Requirement already satisfied: mpmath>=0.19 in c:\\users\\harsh\\anaconda3\\lib\\site-packages (from sympy->torch) (1.3.0)\n"
     ]
    }
   ],
   "source": [
    "!pip install torch"
   ]
  },
  {
   "cell_type": "code",
   "execution_count": 2,
   "metadata": {},
   "outputs": [
    {
     "name": "stdout",
     "output_type": "stream",
     "text": [
      "Requirement already satisfied: torchvision in c:\\users\\harsh\\anaconda3\\lib\\site-packages (0.19.1)\n",
      "Requirement already satisfied: numpy in c:\\users\\harsh\\anaconda3\\lib\\site-packages (from torchvision) (1.26.4)\n",
      "Requirement already satisfied: torch==2.4.1 in c:\\users\\harsh\\anaconda3\\lib\\site-packages (from torchvision) (2.4.1)\n",
      "Requirement already satisfied: pillow!=8.3.*,>=5.3.0 in c:\\users\\harsh\\anaconda3\\lib\\site-packages (from torchvision) (10.2.0)\n",
      "Requirement already satisfied: filelock in c:\\users\\harsh\\anaconda3\\lib\\site-packages (from torch==2.4.1->torchvision) (3.13.1)\n",
      "Requirement already satisfied: typing-extensions>=4.8.0 in c:\\users\\harsh\\anaconda3\\lib\\site-packages (from torch==2.4.1->torchvision) (4.9.0)\n",
      "Requirement already satisfied: sympy in c:\\users\\harsh\\anaconda3\\lib\\site-packages (from torch==2.4.1->torchvision) (1.12)\n",
      "Requirement already satisfied: networkx in c:\\users\\harsh\\anaconda3\\lib\\site-packages (from torch==2.4.1->torchvision) (3.1)\n",
      "Requirement already satisfied: jinja2 in c:\\users\\harsh\\anaconda3\\lib\\site-packages (from torch==2.4.1->torchvision) (3.1.3)\n",
      "Requirement already satisfied: fsspec in c:\\users\\harsh\\anaconda3\\lib\\site-packages (from torch==2.4.1->torchvision) (2023.10.0)\n",
      "Requirement already satisfied: MarkupSafe>=2.0 in c:\\users\\harsh\\anaconda3\\lib\\site-packages (from jinja2->torch==2.4.1->torchvision) (2.1.3)\n",
      "Requirement already satisfied: mpmath>=0.19 in c:\\users\\harsh\\anaconda3\\lib\\site-packages (from sympy->torch==2.4.1->torchvision) (1.3.0)\n"
     ]
    }
   ],
   "source": [
    "!pip install torchvision"
   ]
  },
  {
   "cell_type": "code",
   "execution_count": 3,
   "metadata": {
    "id": "-RM98MtEeTww"
   },
   "outputs": [],
   "source": [
    "import numpy as np\n",
    "import matplotlib.pyplot as plt\n",
    "\n",
    "from pathlib import Path\n",
    "\n",
    "import torch\n",
    "from torch.autograd import Function\n",
    "from torchvision import datasets, transforms\n",
    "import torch.optim as optim\n",
    "from torch.optim import lr_scheduler\n",
    "import torch.nn as nn\n",
    "import torch.nn.functional as F\n",
    "\n"
   ]
  },
  {
   "cell_type": "code",
   "execution_count": 4,
   "metadata": {
    "id": "_I845zHUeoXV"
   },
   "outputs": [],
   "source": [
    "# Loading of the MNIST dataset\n",
    "train_data = datasets.MNIST(\n",
    "    root = 'data',  # root: The root directory where the dataset should be stored. In this case, it is set to 'data'. If the 'data' directory doesn't exist, the dataset will be downloaded to this location.\n",
    "    train = True,\n",
    "    transform = transforms.ToTensor(),  # transform: This parameter applies transformations to the data. In this case, transforms.ToTensor() is used to convert the images to PyTorch tensors.\n",
    "    download = True,\n",
    ")\n",
    "test_data = datasets.MNIST(\n",
    "    root = 'data',\n",
    "    train = False,\n",
    "    transform = transforms.ToTensor()\n",
    ")"
   ]
  },
  {
   "cell_type": "code",
   "execution_count": 5,
   "metadata": {
    "id": "yFlOU3zGecUq"
   },
   "outputs": [],
   "source": [
    "#Setting of the main hyper-parameters of the model\n",
    "batch_size = 4 # The number of samples in each mini-batch used during training. Smaller batch sizes can lead to faster convergence but may introduce more noise into the training process.\n",
    "n_train = batch_size * 125    # The total size of the training dataset. It's calculated as the product of batch_size and the number of batches (125 in this case). Adjusting the training dataset size can impact the model's ability to generalize.\n",
    "n_test = batch_size * 25     # The total size of the test dataset. Similar to n_train, it's calculated as the product of batch_size and the number of test batches (25 in this case). The test dataset is used to evaluate the model's performance on unseen data.\n",
    "n_channels = 4  # The number of channels in the output of the quantum convolution layer. In your model, you have set it to 4. This parameter determines the depth of the feature maps produced by the convolutional layer.\n",
    "initial_lr =  0.005     # The initial learning rate for the stochastic gradient descent (SGD) optimizer."
   ]
  },
  {
   "cell_type": "code",
   "execution_count": 6,
   "metadata": {
    "id": "-3CmM5H-BOh5"
   },
   "outputs": [],
   "source": [
    "class Net(nn.Module):\n",
    "    def __init__(self):\n",
    "        super(Net, self).__init__()\n",
    "        # Convolutional layer 1 with 1 input channels, 4 output channels, and 2x2 kernel\n",
    "        self.conv = nn.Conv2d(1, 1, 4, stride=4)\n",
    "        self.fc = nn.Linear(1 * 7 * 7, 10)\n",
    "\n",
    "    def forward(self, x):\n",
    "        # Propagate the input through the CNN layers\n",
    "        x = self.conv(x)\n",
    "        # Flatten the output from the convolutional layer\n",
    "        x = torch.flatten(x, start_dim=1)\n",
    "        x = F.relu(self.fc(x))\n",
    "        return x\n"
   ]
  },
  {
   "cell_type": "code",
   "execution_count": 7,
   "metadata": {
    "colab": {
     "base_uri": "https://localhost:8080/"
    },
    "id": "QlHwR2hdRzb2",
    "outputId": "e3a911b9-44d7-4d1f-ff6a-1f0f9f271f23"
   },
   "outputs": [
    {
     "name": "stdout",
     "output_type": "stream",
     "text": [
      "inputs.shape=torch.Size([4, 1, 28, 28])\n",
      "labels=tensor([1, 1, 3, 7])\n",
      "outputs.shape=torch.Size([4, 10])\n",
      "outputs=tensor([[0.0000, 0.1221, 0.2777, 0.0000, 0.0000, 0.2654, 0.0000, 0.0000, 0.0000,\n",
      "         0.1011],\n",
      "        [0.0000, 0.1076, 0.1152, 0.0000, 0.0000, 0.0831, 0.0000, 0.0000, 0.0000,\n",
      "         0.0000],\n",
      "        [0.0000, 0.0919, 0.2134, 0.0000, 0.0000, 0.1879, 0.1266, 0.0000, 0.0000,\n",
      "         0.0427],\n",
      "        [0.0000, 0.0870, 0.1450, 0.0000, 0.0235, 0.0715, 0.0862, 0.0000, 0.0000,\n",
      "         0.0000]], grad_fn=<ReluBackward0>)\n"
     ]
    }
   ],
   "source": [
    "cnn = Net()\n",
    "dataset  = train_data\n",
    "train_size = n_train\n",
    "train_set, val_set = torch.utils.data.random_split(dataset, [train_size, len(dataset) - train_size])\n",
    "train_loader = torch.utils.data.DataLoader(train_set, batch_size=batch_size, shuffle=True)\n",
    "for data in train_loader:\n",
    "    inputs, labels = data\n",
    "    print(f\"{inputs.shape=}\")\n",
    "    print(f\"{labels=}\")\n",
    "    outputs = cnn(inputs)\n",
    "    print(f\"{outputs.shape=}\")\n",
    "    print(f\"{outputs=}\")\n",
    "    break"
   ]
  },
  {
   "cell_type": "code",
   "execution_count": 8,
   "metadata": {
    "colab": {
     "base_uri": "https://localhost:8080/"
    },
    "id": "RCxAXutdvoRg",
    "outputId": "7a6d30f5-db73-493f-e2d2-7f9b5842128d"
   },
   "outputs": [
    {
     "name": "stdout",
     "output_type": "stream",
     "text": [
      "epoch=0, lr=[0.005], 2024-10-15 20:49:45.862693\n",
      "Training [5%]\tLoss: 2.1741\n",
      "Saving model state to models\\ImgClass-Quanvolv.pth\n",
      "epoch=1, lr=[0.005], 2024-10-15 20:49:46.543758\n",
      "Training [10%]\tLoss: 1.1545\n",
      "Saving model state to models\\ImgClass-Quanvolv.pth\n",
      "epoch=2, lr=[0.005], 2024-10-15 20:49:47.143205\n",
      "Training [15%]\tLoss: 0.7738\n",
      "Saving model state to models\\ImgClass-Quanvolv.pth\n",
      "epoch=3, lr=[0.005], 2024-10-15 20:49:47.793785\n",
      "Training [20%]\tLoss: 0.6857\n",
      "Saving model state to models\\ImgClass-Quanvolv.pth\n",
      "epoch=4, lr=[0.005], 2024-10-15 20:49:48.469128\n",
      "Training [25%]\tLoss: 0.6340\n",
      "Saving model state to models\\ImgClass-Quanvolv.pth\n",
      "epoch=5, lr=[0.005], 2024-10-15 20:49:49.076439\n",
      "Training [30%]\tLoss: 0.6254\n",
      "Saving model state to models\\ImgClass-Quanvolv.pth\n",
      "epoch=6, lr=[0.005], 2024-10-15 20:49:49.746351\n",
      "Training [35%]\tLoss: 0.5701\n",
      "Saving model state to models\\ImgClass-Quanvolv.pth\n",
      "epoch=7, lr=[0.005], 2024-10-15 20:49:50.357790\n",
      "Training [40%]\tLoss: 0.5654\n",
      "Saving model state to models\\ImgClass-Quanvolv.pth\n",
      "epoch=8, lr=[0.005], 2024-10-15 20:49:50.950520\n",
      "Training [45%]\tLoss: 0.5395\n",
      "Saving model state to models\\ImgClass-Quanvolv.pth\n",
      "epoch=9, lr=[0.005], 2024-10-15 20:49:51.599009\n",
      "Training [50%]\tLoss: 0.5440\n",
      "Saving model state to models\\ImgClass-Quanvolv.pth\n",
      "epoch=10, lr=[0.005], 2024-10-15 20:49:52.244217\n",
      "Training [55%]\tLoss: 0.4727\n",
      "Saving model state to models\\ImgClass-Quanvolv.pth\n",
      "epoch=11, lr=[0.005], 2024-10-15 20:49:52.864137\n",
      "Training [60%]\tLoss: 0.4843\n",
      "Saving model state to models\\ImgClass-Quanvolv.pth\n",
      "epoch=12, lr=[0.005], 2024-10-15 20:49:53.527976\n",
      "Training [65%]\tLoss: 0.4748\n",
      "Saving model state to models\\ImgClass-Quanvolv.pth\n",
      "epoch=13, lr=[0.005], 2024-10-15 20:49:54.170709\n",
      "Training [70%]\tLoss: 0.4679\n",
      "Saving model state to models\\ImgClass-Quanvolv.pth\n",
      "epoch=14, lr=[0.005], 2024-10-15 20:49:54.757114\n",
      "Training [75%]\tLoss: 0.4763\n",
      "Saving model state to models\\ImgClass-Quanvolv.pth\n",
      "epoch=15, lr=[0.005], 2024-10-15 20:49:55.321140\n",
      "Training [80%]\tLoss: 0.4622\n",
      "Saving model state to models\\ImgClass-Quanvolv.pth\n",
      "epoch=16, lr=[0.005], 2024-10-15 20:49:55.980842\n",
      "Training [85%]\tLoss: 0.4843\n",
      "Saving model state to models\\ImgClass-Quanvolv.pth\n",
      "epoch=17, lr=[0.005], 2024-10-15 20:49:56.643327\n",
      "Training [90%]\tLoss: 0.4430\n",
      "Saving model state to models\\ImgClass-Quanvolv.pth\n",
      "epoch=18, lr=[0.005], 2024-10-15 20:49:57.390745\n",
      "Training [95%]\tLoss: 0.4749\n",
      "Saving model state to models\\ImgClass-Quanvolv.pth\n",
      "epoch=19, lr=[0.005], 2024-10-15 20:49:58.107813\n",
      "Training [100%]\tLoss: 0.4216\n",
      "Saving model state to models\\ImgClass-Quanvolv.pth\n",
      "Finished Training\n"
     ]
    }
   ],
   "source": [
    "# Train the model\n",
    "\n",
    "import datetime\n",
    "import os\n",
    "\n",
    "dataset  = train_data\n",
    "\n",
    "# Initialize your QCNN model\n",
    "cnn = Net()\n",
    "\n",
    "# Define loss function and optimizer\n",
    "criterion = nn.CrossEntropyLoss()  # Cross-entropy loss for classification\n",
    "optimizer = optim.SGD(cnn.parameters(), lr=initial_lr, momentum=0.90)  # Stochastic Gradient Descent optimizer\n",
    "# Create a learning rate scheduler\n",
    "# Here, we use StepLR which reduces the learning rate by a factor every step_size epochs\n",
    "scheduler = lr_scheduler.StepLR(optimizer, step_size=1, gamma=1.0)\n",
    "# Split your data into training and validation sets\n",
    "train_size = n_train\n",
    "train_set, val_set = torch.utils.data.random_split(dataset, [train_size, len(dataset) - train_size])\n",
    "train_loader = torch.utils.data.DataLoader(train_set, batch_size=batch_size, shuffle=True)\n",
    "val_loader = torch.utils.data.DataLoader(val_set, batch_size=batch_size, shuffle=False)\n",
    "\n",
    "MODEL_PATH = Path(\"models\")\n",
    "MODEL_PATH.mkdir(parents=True, exist_ok=True)\n",
    "\n",
    "MODEL_NAME = \"ImgClass-Quanvolv.pth\"\n",
    "MODEL_SAVE_PATH = MODEL_PATH / MODEL_NAME\n",
    "\n",
    "RESUME_TRAINING = True\n",
    "\n",
    "# Training loop\n",
    "num_epochs = 20\n",
    "loss_list = []\n",
    "cnn.train()\n",
    "\n",
    "if RESUME_TRAINING is False:\n",
    "    print(f\"Restore model state from {MODEL_SAVE_PATH}\")\n",
    "    if os.path.exists(MODEL_SAVE_PATH):\n",
    "        model_dict = torch.load(MODEL_SAVE_PATH)\n",
    "        initial_epoch = model_dict['epoch'] + 1\n",
    "        cnn.load_state_dict(model_dict['model_state_dict'])\n",
    "        optimizer.load_state_dict(model_dict['optimizer_state_dict'])\n",
    "        loss_list = model_dict['loss'].copy()\n",
    "    else:\n",
    "        print(f\"No saved model state found. Training from scratch.\")\n",
    "        initial_epoch = 0\n",
    "        loss_list = []\n",
    "else:\n",
    "    initial_epoch = 0\n",
    "    loss_list = []\n",
    "\n",
    "for epoch in range(num_epochs):\n",
    "    ct = datetime.datetime.now()\n",
    "    # Decay Learning Rate\n",
    "    optimizer.step()\n",
    "    scheduler.step()\n",
    "    lr = scheduler.get_last_lr()\n",
    "    print(f\"{epoch=}, {lr=}, {ct}\")\n",
    "    running_loss = []\n",
    "    for i, data in enumerate(train_loader, 0):\n",
    "        inputs, labels = data\n",
    "        optimizer.zero_grad()  # Zero the parameter gradients to avoid accumulation\n",
    "        outputs = cnn(inputs)  # Forward pass\n",
    "        loss = criterion(outputs, labels)  # Compute the loss\n",
    "        loss.backward()  # Backpropagation\n",
    "        running_loss.append(loss.item())\n",
    "        optimizer.step()  # Update the model parameters\n",
    "    loss_list.append(sum(running_loss) / len(running_loss))\n",
    "    print('Training [{:.0f}%]\\tLoss: {:.4f}'.format(100. * (epoch + 1) / num_epochs, loss_list[-1]))\n",
    "    torch.save({\n",
    "        'epoch': epoch,\n",
    "        'model_state_dict': cnn.state_dict(),\n",
    "        'optimizer_state_dict': optimizer.state_dict(),\n",
    "        'loss': loss_list,\n",
    "    }, MODEL_SAVE_PATH)\n",
    "    print(f\"Saving model state to {MODEL_SAVE_PATH}\")\n",
    "\n",
    "print('Finished Training')"
   ]
  },
  {
   "cell_type": "code",
   "execution_count": 9,
   "metadata": {
    "colab": {
     "base_uri": "https://localhost:8080/"
    },
    "id": "nUl3J1rhtfvQ",
    "outputId": "92e7e31b-6fa1-4e25-cf1f-376c3ba5ab77"
   },
   "outputs": [
    {
     "data": {
      "text/plain": [
       "OrderedDict([('conv.weight',\n",
       "              tensor([[[[ 1.1446,  0.7152,  0.8819,  1.3776],\n",
       "                        [ 0.6539,  0.9158,  0.7266,  0.4113],\n",
       "                        [ 0.2243, -0.1708,  0.8783,  1.1280],\n",
       "                        [ 1.2809,  0.9832,  0.6123,  0.7836]]]])),\n",
       "             ('conv.bias', tensor([-1.4687])),\n",
       "             ('fc.weight',\n",
       "              tensor([[-0.0241, -0.0213,  0.1167,  0.0441, -0.1734,  0.0684, -0.1296, -0.0161,\n",
       "                       -0.1210, -0.1907,  0.0518,  0.4501, -0.2800, -0.0461, -0.1487,  0.0155,\n",
       "                        0.5237,  0.3762, -0.1925,  0.2203,  0.0515,  0.0814, -0.1849,  0.4397,\n",
       "                       -1.3284, -0.8838,  0.4250,  0.0581, -0.0320,  0.5661,  0.5300, -0.5805,\n",
       "                       -0.2945,  0.1406,  0.0403,  0.1289, -0.0665,  0.5522,  0.2200, -0.1486,\n",
       "                       -0.1166,  0.0991,  0.1043,  0.1099,  0.1517,  0.0986, -0.3802, -0.0599,\n",
       "                        0.0981],\n",
       "                      [-0.0527,  0.0327, -0.1743, -0.0335, -0.0672,  0.0208,  0.0040,  0.1409,\n",
       "                        0.0198, -0.2417, -0.4534,  0.2634,  0.1965, -0.1985,  0.0055,  0.0403,\n",
       "                       -0.5966, -0.6241, -0.3213, -0.7631, -0.1183,  0.0888,  0.0333, -0.7990,\n",
       "                        0.7354, -0.9276, -0.0626,  0.1349,  0.1098, -0.0889,  0.5255,  0.8326,\n",
       "                       -0.9154, -0.2699,  0.0317,  0.0749, -0.0251, -0.2374, -0.5798,  0.1598,\n",
       "                       -0.0622,  0.0231, -0.0674,  0.0135, -0.8270, -0.4015,  0.0544,  0.0957,\n",
       "                        0.1110],\n",
       "                      [-0.1739, -0.0697,  0.1915, -0.0085, -0.0534,  0.0753, -0.0739,  0.0103,\n",
       "                       -0.1870,  0.2674,  0.5231,  0.1111,  0.0044, -0.1369, -0.1393,  0.2515,\n",
       "                       -0.4005, -0.7357, -0.0124, -0.0996, -0.0547, -0.0550, -0.9368, -0.3624,\n",
       "                       -0.4562, -1.0836, -0.5754, -0.0355, -0.0279,  0.4420,  0.9670,  0.8906,\n",
       "                       -0.1870,  0.4315,  0.5797, -0.2134, -0.2661,  0.3830, -0.1246,  0.1561,\n",
       "                        0.4069,  0.0839, -0.1524, -0.0819, -0.2875, -0.5536, -0.3007, -0.1289,\n",
       "                        0.0710],\n",
       "                      [-0.0648,  0.0226,  0.1448,  0.1421,  0.0461,  0.1455, -0.0624, -0.0198,\n",
       "                       -0.1135,  0.0041, -0.0398, -0.1040, -0.0783,  0.0268,  0.0176,  0.0309,\n",
       "                       -0.0353,  0.0179,  0.0519, -0.0662,  0.0251, -0.1312, -0.0025, -0.0289,\n",
       "                       -0.1414, -0.0484, -0.1341,  0.0640,  0.1110,  0.0590, -0.0497,  0.0234,\n",
       "                        0.0349, -0.1054,  0.0487, -0.0502, -0.0787,  0.0357, -0.0199,  0.0668,\n",
       "                       -0.1175, -0.0840, -0.0205,  0.1231,  0.0553,  0.0327,  0.1101,  0.0414,\n",
       "                        0.1241],\n",
       "                      [ 0.1707,  0.0538,  0.0123, -0.0085,  0.0026,  0.0458, -0.0635,  0.0240,\n",
       "                        0.2820, -0.3900, -0.4400, -0.7038,  0.4519,  0.0495, -0.1228, -0.3131,\n",
       "                       -0.1367, -0.8831, -0.1846, -0.0852, -0.3770,  0.1705,  0.1689,  0.7497,\n",
       "                       -0.3509,  1.1957, -0.4998, -0.0274, -0.0326,  0.7279, -0.2572,  0.8030,\n",
       "                       -0.4079, -0.2391, -0.0996,  0.0695, -0.5520, -0.6323, -0.6562, -0.1676,\n",
       "                        0.1129, -0.0439,  0.0895, -0.0835, -0.2701, -0.3307, -0.3759,  0.0468,\n",
       "                       -0.0618],\n",
       "                      [-0.0315, -0.0517, -0.1196, -0.3134, -0.3511, -0.0606, -0.3105, -0.0341,\n",
       "                       -0.6283, -0.4399, -0.5632, -0.3483,  0.6811,  0.5090, -0.3595, -0.1416,\n",
       "                        0.7168,  0.3901, -0.5529, -0.3135,  0.0845, -0.3134,  0.0476,  1.0484,\n",
       "                       -0.5611, -0.6699, -0.3348,  0.3029, -0.1047,  0.1209, -0.1821, -0.3862,\n",
       "                       -0.3921,  0.3890, -0.1568, -0.0773, -0.1775,  0.3604,  0.1529, -0.0253,\n",
       "                        0.5287, -0.2548, -0.1611, -0.1447,  0.0846,  0.2333, -0.1518, -0.1756,\n",
       "                       -0.2238],\n",
       "                      [ 0.0427,  0.0304, -0.0559,  0.5055,  0.7042, -0.0985,  0.1258, -0.1144,\n",
       "                       -0.1631, -0.2668, -0.6920, -0.0056, -0.0600,  0.1449, -0.1010, -0.2115,\n",
       "                        0.0094, -0.1910, -1.1397, -0.3876, -0.0564,  0.0163,  0.1340,  0.1747,\n",
       "                       -0.3984, -0.6939,  0.1812, -0.0815, -0.0825, -0.1848,  1.5145,  0.1511,\n",
       "                        0.1834,  0.3126, -0.0783, -0.1631, -0.4719, -0.0715,  0.4139,  0.1393,\n",
       "                       -0.0971, -0.0360, -0.0525,  0.0402, -0.1562, -0.3166, -0.2284,  0.0567,\n",
       "                       -0.0508],\n",
       "                      [-0.1127, -0.1595,  0.0068, -0.1813, -0.0057, -0.1264, -0.0530, -0.0673,\n",
       "                       -0.1688,  0.2725, -0.5794, -0.1983, -0.0238, -0.0994,  0.0162,  0.3527,\n",
       "                        0.9769,  0.4531,  0.0362, -0.0758, -0.1493,  0.0268, -0.1355, -0.7756,\n",
       "                       -0.6957,  0.0534,  0.4151, -0.3411, -0.1369, -0.2919, -0.4402,  0.5386,\n",
       "                       -0.3556, -0.6047, -0.1330,  0.0077, -0.2211, -0.5478, -0.5395, -0.8049,\n",
       "                       -0.1964, -0.0785, -0.1227,  0.1710,  0.4596,  0.4316,  0.1555, -0.0827,\n",
       "                       -0.1082],\n",
       "                      [ 0.1442,  0.0273, -0.0482, -0.0452, -0.1464, -0.1310, -0.0179, -0.0518,\n",
       "                        0.2374, -0.4597,  0.4266, -0.2323, -0.3234,  0.0190, -0.1219,  0.2780,\n",
       "                        0.4643, -0.1986, -0.1006,  0.1617,  0.4358,  0.0494,  0.2371, -0.0070,\n",
       "                        0.4103, -0.0766, -0.6607, -0.0092,  0.0084, -0.5022,  1.1076,  0.0467,\n",
       "                       -0.6589, -0.2566, -0.2795, -0.0603, -0.1378,  0.5540, -0.2111, -0.0683,\n",
       "                       -0.1918, -0.0040, -0.1260, -0.2223,  0.1383,  0.2814,  0.4301,  0.2852,\n",
       "                        0.0848],\n",
       "                      [ 0.2040,  0.0562,  0.1741, -0.0783, -0.0176, -0.0624,  0.1337,  0.1522,\n",
       "                       -0.1831, -0.9125,  0.4173,  0.1095, -0.4143,  0.0716, -0.1248, -0.5714,\n",
       "                        0.3413,  0.4514,  0.3919,  0.3886, -0.1072, -0.0918,  0.4853,  0.0449,\n",
       "                       -0.2353,  0.8021, -0.6319, -0.1632,  0.1386,  0.2188, -0.0507, -0.0299,\n",
       "                       -0.6665, -0.5727,  0.2094, -0.0511, -0.5299, -0.9980, -0.7616, -0.9209,\n",
       "                       -0.4403,  0.0263,  0.0940, -0.1133, -0.1579,  0.2032,  1.1904,  0.1861,\n",
       "                        0.0437]])),\n",
       "             ('fc.bias',\n",
       "              tensor([ 0.1046,  0.1770,  0.0284, -0.1544, -0.1063,  0.2776,  0.2021,  0.0401,\n",
       "                      -0.0260, -0.0361]))])"
      ]
     },
     "execution_count": 9,
     "metadata": {},
     "output_type": "execute_result"
    }
   ],
   "source": [
    "cnn.state_dict()"
   ]
  },
  {
   "cell_type": "code",
   "execution_count": 10,
   "metadata": {
    "colab": {
     "base_uri": "https://localhost:8080/"
    },
    "id": "EZCJdLCoqc10",
    "outputId": "78c296c0-4ccf-4066-be59-58f2375eaf3b"
   },
   "outputs": [
    {
     "name": "stdout",
     "output_type": "stream",
     "text": [
      "Accuracy on the validation set: 81.00%\n"
     ]
    }
   ],
   "source": [
    "#accuracy\n",
    "\n",
    "# Use a small subset of the full validation dataset\n",
    "from torch.utils.data import SubsetRandomSampler\n",
    "\n",
    "K = n_test # enter your length here\n",
    "subsample_train_indices = torch.randperm(len(val_set))[:K]\n",
    "val_loader = torch.utils.data.DataLoader(val_set, batch_size=batch_size, sampler=SubsetRandomSampler(subsample_train_indices))\n",
    "\n",
    "correct = 0\n",
    "total = 0\n",
    "# Set the model to evaluation mode\n",
    "cnn.eval()\n",
    "with torch.inference_mode():\n",
    "    for data in val_loader:\n",
    "        images, labels = data\n",
    "        outputs = cnn(images)\n",
    "        _, predicted = torch.max(outputs.data, 1)\n",
    "        total += labels.size(0)\n",
    "        correct += (predicted == labels).sum().item()\n",
    "print(f'Accuracy on the validation set: {100 * correct / total:.2f}%')"
   ]
  }
 ],
 "metadata": {
  "colab": {
   "provenance": []
  },
  "kernelspec": {
   "display_name": "Python 3 (ipykernel)",
   "language": "python",
   "name": "python3"
  },
  "language_info": {
   "codemirror_mode": {
    "name": "ipython",
    "version": 3
   },
   "file_extension": ".py",
   "mimetype": "text/x-python",
   "name": "python",
   "nbconvert_exporter": "python",
   "pygments_lexer": "ipython3",
   "version": "3.11.7"
  }
 },
 "nbformat": 4,
 "nbformat_minor": 1
}
